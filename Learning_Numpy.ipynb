{
  "nbformat": 4,
  "nbformat_minor": 0,
  "metadata": {
    "colab": {
      "name": "Learning-Numpy.ipynb",
      "provenance": [],
      "include_colab_link": true
    },
    "kernelspec": {
      "name": "python3",
      "display_name": "Python 3"
    },
    "accelerator": "GPU"
  },
  "cells": [
    {
      "cell_type": "markdown",
      "metadata": {
        "id": "view-in-github",
        "colab_type": "text"
      },
      "source": [
        "<a href=\"https://colab.research.google.com/github/thecoducer/learning-data-science/blob/master/Learning_Numpy.ipynb\" target=\"_parent\"><img src=\"https://colab.research.google.com/assets/colab-badge.svg\" alt=\"Open In Colab\"/></a>"
      ]
    },
    {
      "cell_type": "markdown",
      "metadata": {
        "id": "HTh1V1CMFFt_",
        "colab_type": "text"
      },
      "source": [
        "## Numpy###"
      ]
    },
    {
      "cell_type": "markdown",
      "metadata": {
        "id": "Oe1X7_n9F5yA",
        "colab_type": "text"
      },
      "source": [
        "### Why Numpy is faster than lists?\n",
        "\n",
        "- Numpy is faster than lists since Numpy elements have fixed data type.\n",
        "- Numpy has contiguous memory\n",
        "- No type checking when reading objects\n",
        "- Read bytes of memory faster\n",
        "\n",
        "### Applications of Numpy:\n",
        "\n",
        "- Mathematics (MATLAB replacement)\n",
        "- Plotting (using matloptlib)\n",
        "- Backend (Pandas, Connect 4, Digital photography)\n",
        "- Machine learning (Numpy helps to give a foundation to tensors)"
      ]
    },
    {
      "cell_type": "markdown",
      "metadata": {
        "id": "sZ43n_QSIigg",
        "colab_type": "text"
      },
      "source": [
        "## Install numpy"
      ]
    },
    {
      "cell_type": "code",
      "metadata": {
        "id": "kAvqcBwkE43k",
        "colab_type": "code",
        "outputId": "6d659938-0f78-4926-f673-36ce164dd537",
        "colab": {
          "base_uri": "https://localhost:8080/",
          "height": 34
        }
      },
      "source": [
        "pip install numpy"
      ],
      "execution_count": 0,
      "outputs": [
        {
          "output_type": "stream",
          "text": [
            "Requirement already satisfied: numpy in /usr/local/lib/python3.6/dist-packages (1.16.5)\n"
          ],
          "name": "stdout"
        }
      ]
    },
    {
      "cell_type": "markdown",
      "metadata": {
        "id": "WtP6_-taJa0z",
        "colab_type": "text"
      },
      "source": [
        "## Importing Numpy"
      ]
    },
    {
      "cell_type": "code",
      "metadata": {
        "id": "LJTGJDFNJR1g",
        "colab_type": "code",
        "colab": {}
      },
      "source": [
        "import numpy as np"
      ],
      "execution_count": 0,
      "outputs": []
    },
    {
      "cell_type": "markdown",
      "metadata": {
        "id": "rdtCvns2JeEC",
        "colab_type": "text"
      },
      "source": [
        "## 1 dimensional matrix"
      ]
    },
    {
      "cell_type": "code",
      "metadata": {
        "id": "IUCUXiYeIwdp",
        "colab_type": "code",
        "outputId": "fbbc58e5-7b49-465d-c3c5-dd78758c9cc3",
        "colab": {
          "base_uri": "https://localhost:8080/",
          "height": 34
        }
      },
      "source": [
        "a = np.array([45, 58, 96], dtype=\"int16\")\n",
        "print(a)"
      ],
      "execution_count": 0,
      "outputs": [
        {
          "output_type": "stream",
          "text": [
            "[45 58 96]\n"
          ],
          "name": "stdout"
        }
      ]
    },
    {
      "cell_type": "markdown",
      "metadata": {
        "id": "UHeS2yu6Jh85",
        "colab_type": "text"
      },
      "source": [
        "## 2 dimensional matrix"
      ]
    },
    {
      "cell_type": "code",
      "metadata": {
        "id": "Bk60H1SkJPpI",
        "colab_type": "code",
        "outputId": "e782ab2e-bcd3-49fe-fbe5-87e86b410536",
        "colab": {
          "base_uri": "https://localhost:8080/",
          "height": 50
        }
      },
      "source": [
        "b = np.array([[4, 5, 8], [2, 7, 6]])\n",
        "print(b)"
      ],
      "execution_count": 0,
      "outputs": [
        {
          "output_type": "stream",
          "text": [
            "[[4 5 8]\n",
            " [2 7 6]]\n"
          ],
          "name": "stdout"
        }
      ]
    },
    {
      "cell_type": "markdown",
      "metadata": {
        "id": "aHaojb07Jljw",
        "colab_type": "text"
      },
      "source": [
        "## 3 dimensional matrix"
      ]
    },
    {
      "cell_type": "code",
      "metadata": {
        "id": "-AXdfeetJnpI",
        "colab_type": "code",
        "outputId": "3e0dd23d-159d-4327-9ad2-c209fd83cb48",
        "colab": {
          "base_uri": "https://localhost:8080/",
          "height": 67
        }
      },
      "source": [
        "c = np.array([[1.23, 2.23, 3.89], [9, 6, 9], [7, 2, 4]])\n",
        "print(c)"
      ],
      "execution_count": 0,
      "outputs": [
        {
          "output_type": "stream",
          "text": [
            "[[1.23 2.23 3.89]\n",
            " [9.   6.   9.  ]\n",
            " [7.   2.   4.  ]]\n"
          ],
          "name": "stdout"
        }
      ]
    },
    {
      "cell_type": "code",
      "metadata": {
        "id": "qCdShvWFJ51x",
        "colab_type": "code",
        "outputId": "94ef8e4d-c8a6-44c0-eeb3-30e0b932e322",
        "colab": {
          "base_uri": "https://localhost:8080/",
          "height": 34
        }
      },
      "source": [
        "# Get dimension\n",
        "a.ndim"
      ],
      "execution_count": 0,
      "outputs": [
        {
          "output_type": "execute_result",
          "data": {
            "text/plain": [
              "1"
            ]
          },
          "metadata": {
            "tags": []
          },
          "execution_count": 120
        }
      ]
    },
    {
      "cell_type": "code",
      "metadata": {
        "id": "WEvsNBNeJ-Jh",
        "colab_type": "code",
        "outputId": "4c94660e-f631-4e44-ec4e-212aeecf503a",
        "colab": {
          "base_uri": "https://localhost:8080/",
          "height": 34
        }
      },
      "source": [
        "# Get shape or n * n?\n",
        "b.shape"
      ],
      "execution_count": 0,
      "outputs": [
        {
          "output_type": "execute_result",
          "data": {
            "text/plain": [
              "(2, 3)"
            ]
          },
          "metadata": {
            "tags": []
          },
          "execution_count": 121
        }
      ]
    },
    {
      "cell_type": "code",
      "metadata": {
        "id": "t59HgBMDKHwZ",
        "colab_type": "code",
        "outputId": "f8d456b2-783b-464e-d29c-2cfc3ba8186a",
        "colab": {
          "base_uri": "https://localhost:8080/",
          "height": 50
        }
      },
      "source": [
        "# Get type\n",
        "print(a.dtype)\n",
        "print(c.dtype)"
      ],
      "execution_count": 0,
      "outputs": [
        {
          "output_type": "stream",
          "text": [
            "int16\n",
            "float64\n"
          ],
          "name": "stdout"
        }
      ]
    },
    {
      "cell_type": "code",
      "metadata": {
        "id": "QjzLarEcKzbb",
        "colab_type": "code",
        "outputId": "c25b5b98-e1fd-4b5a-885a-fc7a6669d73a",
        "colab": {
          "base_uri": "https://localhost:8080/",
          "height": 67
        }
      },
      "source": [
        "# Get bytes of memory it takes\n",
        "print(b.itemsize)\n",
        "print(a.itemsize)\n",
        "print(c.itemsize)\n",
        "# 2 bytes for int16\n",
        "# 4 bytes for int32\n",
        "# 8 bytes for int64\n",
        "# 8 bytes for float too"
      ],
      "execution_count": 0,
      "outputs": [
        {
          "output_type": "stream",
          "text": [
            "8\n",
            "2\n",
            "8\n"
          ],
          "name": "stdout"
        }
      ]
    },
    {
      "cell_type": "code",
      "metadata": {
        "id": "l3RTAgiPMBnb",
        "colab_type": "code",
        "outputId": "a2d03f00-6b97-4758-ec1e-7f581cd0f7c5",
        "colab": {
          "base_uri": "https://localhost:8080/",
          "height": 67
        }
      },
      "source": [
        "# Get length of np array\n",
        "print(a.size)\n",
        "print(b.size)\n",
        "print(c.size)"
      ],
      "execution_count": 0,
      "outputs": [
        {
          "output_type": "stream",
          "text": [
            "3\n",
            "6\n",
            "9\n"
          ],
          "name": "stdout"
        }
      ]
    },
    {
      "cell_type": "code",
      "metadata": {
        "id": "LRI_bHmSMKpJ",
        "colab_type": "code",
        "outputId": "b05d723d-652f-4ef9-b05a-e24916e0c156",
        "colab": {
          "base_uri": "https://localhost:8080/",
          "height": 50
        }
      },
      "source": [
        "# Get total size\n",
        "print(a.size * a.itemsize)\n",
        "# other way to do this\n",
        "print(a.nbytes)"
      ],
      "execution_count": 0,
      "outputs": [
        {
          "output_type": "stream",
          "text": [
            "6\n",
            "6\n"
          ],
          "name": "stdout"
        }
      ]
    },
    {
      "cell_type": "markdown",
      "metadata": {
        "id": "pKC4KP2tM0A8",
        "colab_type": "text"
      },
      "source": [
        "## Acccessing/Changing specific elements, rows, columns etc."
      ]
    },
    {
      "cell_type": "code",
      "metadata": {
        "id": "eZp1RGpdM7JR",
        "colab_type": "code",
        "outputId": "7d3e603b-f5c0-47b4-92e4-f87e31fe5802",
        "colab": {
          "base_uri": "https://localhost:8080/",
          "height": 50
        }
      },
      "source": [
        "d = np.array([[1, 2, 3, 4, 5, 6, 7], [8, 9, 10, 11, 12, 13, 14]])\n",
        "print(d)"
      ],
      "execution_count": 0,
      "outputs": [
        {
          "output_type": "stream",
          "text": [
            "[[ 1  2  3  4  5  6  7]\n",
            " [ 8  9 10 11 12 13 14]]\n"
          ],
          "name": "stdout"
        }
      ]
    },
    {
      "cell_type": "code",
      "metadata": {
        "id": "GiOXI1QvNUML",
        "colab_type": "code",
        "outputId": "728718be-296d-4614-defe-f53aee07cecf",
        "colab": {
          "base_uri": "https://localhost:8080/",
          "height": 34
        }
      },
      "source": [
        "# Get a specific element - [r, c]\n",
        "d[0, 3]"
      ],
      "execution_count": 0,
      "outputs": [
        {
          "output_type": "execute_result",
          "data": {
            "text/plain": [
              "4"
            ]
          },
          "metadata": {
            "tags": []
          },
          "execution_count": 127
        }
      ]
    },
    {
      "cell_type": "code",
      "metadata": {
        "id": "7NDSWxvWWT14",
        "colab_type": "code",
        "outputId": "ae92eeff-30df-49d8-9b86-ec1c9bb8787d",
        "colab": {
          "base_uri": "https://localhost:8080/",
          "height": 50
        }
      },
      "source": [
        "# Get a specific row\n",
        "print(d[0, :]) # first row\n",
        "print(d[0, 1:6])"
      ],
      "execution_count": 0,
      "outputs": [
        {
          "output_type": "stream",
          "text": [
            "[1 2 3 4 5 6 7]\n",
            "[2 3 4 5 6]\n"
          ],
          "name": "stdout"
        }
      ]
    },
    {
      "cell_type": "code",
      "metadata": {
        "id": "NEUat4y6WzKE",
        "colab_type": "code",
        "outputId": "f0fca496-f11d-40e7-ed57-0dfc99c1da57",
        "colab": {
          "base_uri": "https://localhost:8080/",
          "height": 34
        }
      },
      "source": [
        "# Get a specific column\n",
        "print(d[:, 2]) # third column"
      ],
      "execution_count": 0,
      "outputs": [
        {
          "output_type": "stream",
          "text": [
            "[ 3 10]\n"
          ],
          "name": "stdout"
        }
      ]
    },
    {
      "cell_type": "code",
      "metadata": {
        "id": "lBlbkl-TXVhY",
        "colab_type": "code",
        "outputId": "0d8c4bae-caab-4210-d32e-dd8311baab2e",
        "colab": {
          "base_uri": "https://localhost:8080/",
          "height": 34
        }
      },
      "source": [
        "# Getting little more fancy [startindex:endindex:stepsize]\n",
        "print(d[0, 1:-1:2])"
      ],
      "execution_count": 0,
      "outputs": [
        {
          "output_type": "stream",
          "text": [
            "[2 4 6]\n"
          ],
          "name": "stdout"
        }
      ]
    },
    {
      "cell_type": "code",
      "metadata": {
        "id": "9p30xAkgbzSd",
        "colab_type": "code",
        "outputId": "03712706-280e-4854-939a-4101babb2ced",
        "colab": {
          "base_uri": "https://localhost:8080/",
          "height": 50
        }
      },
      "source": [
        "# Replace elements\n",
        "d[1, 4] = 55\n",
        "print(d)"
      ],
      "execution_count": 0,
      "outputs": [
        {
          "output_type": "stream",
          "text": [
            "[[ 1  2  3  4  5  6  7]\n",
            " [ 8  9 10 11 55 13 14]]\n"
          ],
          "name": "stdout"
        }
      ]
    },
    {
      "cell_type": "code",
      "metadata": {
        "id": "Pop-MjeBdJtn",
        "colab_type": "code",
        "outputId": "f6e07393-201a-42ff-8924-295fd50c9394",
        "colab": {
          "base_uri": "https://localhost:8080/",
          "height": 50
        }
      },
      "source": [
        "d[:, 2] = [117, 17]\n",
        "print(d)"
      ],
      "execution_count": 0,
      "outputs": [
        {
          "output_type": "stream",
          "text": [
            "[[  1   2 117   4   5   6   7]\n",
            " [  8   9  17  11  55  13  14]]\n"
          ],
          "name": "stdout"
        }
      ]
    },
    {
      "cell_type": "code",
      "metadata": {
        "id": "jyrFD_zIdWEV",
        "colab_type": "code",
        "outputId": "dfb8fde5-97c2-4a11-a839-3dc2f78479a6",
        "colab": {
          "base_uri": "https://localhost:8080/",
          "height": 101
        }
      },
      "source": [
        "# Just another matrix\n",
        "f = np.array([[[1, 2], [3, 4]], [[5, 6], [7, 8]]])\n",
        "print(f)"
      ],
      "execution_count": 0,
      "outputs": [
        {
          "output_type": "stream",
          "text": [
            "[[[1 2]\n",
            "  [3 4]]\n",
            "\n",
            " [[5 6]\n",
            "  [7 8]]]\n"
          ],
          "name": "stdout"
        }
      ]
    },
    {
      "cell_type": "code",
      "metadata": {
        "id": "hvvVl86jdoyo",
        "colab_type": "code",
        "outputId": "c532020b-99cf-40f1-e467-954e76a3159b",
        "colab": {
          "base_uri": "https://localhost:8080/",
          "height": 34
        }
      },
      "source": [
        "print(f[0, 1, 0]) # accessing a elements is easy if we do it pathwise"
      ],
      "execution_count": 0,
      "outputs": [
        {
          "output_type": "stream",
          "text": [
            "3\n"
          ],
          "name": "stdout"
        }
      ]
    },
    {
      "cell_type": "code",
      "metadata": {
        "id": "Grc3e0mNd4O2",
        "colab_type": "code",
        "outputId": "dad92e67-2c81-482f-b250-3167b7d34fe8",
        "colab": {
          "base_uri": "https://localhost:8080/",
          "height": 101
        }
      },
      "source": [
        "print(f[:, ])"
      ],
      "execution_count": 0,
      "outputs": [
        {
          "output_type": "stream",
          "text": [
            "[[[1 2]\n",
            "  [3 4]]\n",
            "\n",
            " [[5 6]\n",
            "  [7 8]]]\n"
          ],
          "name": "stdout"
        }
      ]
    }
  ]
}