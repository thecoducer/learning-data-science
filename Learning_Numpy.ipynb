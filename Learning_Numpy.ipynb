{
  "nbformat": 4,
  "nbformat_minor": 0,
  "metadata": {
    "colab": {
      "name": "Learning-Numpy.ipynb",
      "provenance": [],
      "include_colab_link": true
    },
    "kernelspec": {
      "name": "python3",
      "display_name": "Python 3"
    },
    "accelerator": "GPU"
  },
  "cells": [
    {
      "cell_type": "markdown",
      "metadata": {
        "id": "view-in-github",
        "colab_type": "text"
      },
      "source": [
        "<a href=\"https://colab.research.google.com/github/thecoducer/learning-data-science/blob/master/Learning_Numpy.ipynb\" target=\"_parent\"><img src=\"https://colab.research.google.com/assets/colab-badge.svg\" alt=\"Open In Colab\"/></a>"
      ]
    },
    {
      "cell_type": "markdown",
      "metadata": {
        "id": "HTh1V1CMFFt_",
        "colab_type": "text"
      },
      "source": [
        "## Numpy###"
      ]
    },
    {
      "cell_type": "markdown",
      "metadata": {
        "id": "Oe1X7_n9F5yA",
        "colab_type": "text"
      },
      "source": [
        "### Why Numpy is faster than lists?\n",
        "\n",
        "- Numpy is faster than lists since Numpy elements have fixed data type.\n",
        "- Numpy has contiguous memory\n",
        "- No type checking when reading objects\n",
        "- Read bytes of memory faster\n",
        "\n",
        "### Applications of Numpy:\n",
        "\n",
        "- Mathematics (MATLAB replacement)\n",
        "- Plotting (using matloptlib)\n",
        "- Backend (Pandas, Connect 4, Digital photography)\n",
        "- Machine learning (Numpy helps to give a foundation to tensors)"
      ]
    },
    {
      "cell_type": "markdown",
      "metadata": {
        "id": "sZ43n_QSIigg",
        "colab_type": "text"
      },
      "source": [
        "## Install numpy"
      ]
    },
    {
      "cell_type": "code",
      "metadata": {
        "id": "kAvqcBwkE43k",
        "colab_type": "code",
        "colab": {
          "base_uri": "https://localhost:8080/",
          "height": 34
        },
        "outputId": "e08fd4b8-c0d9-4dd3-cf05-073ccf7bc344"
      },
      "source": [
        "pip install numpy"
      ],
      "execution_count": 45,
      "outputs": [
        {
          "output_type": "stream",
          "text": [
            "Requirement already satisfied: numpy in /usr/local/lib/python3.6/dist-packages (1.16.5)\n"
          ],
          "name": "stdout"
        }
      ]
    },
    {
      "cell_type": "markdown",
      "metadata": {
        "id": "WtP6_-taJa0z",
        "colab_type": "text"
      },
      "source": [
        "## Importing Numpy"
      ]
    },
    {
      "cell_type": "code",
      "metadata": {
        "id": "LJTGJDFNJR1g",
        "colab_type": "code",
        "colab": {}
      },
      "source": [
        "import numpy as np"
      ],
      "execution_count": 0,
      "outputs": []
    },
    {
      "cell_type": "markdown",
      "metadata": {
        "id": "rdtCvns2JeEC",
        "colab_type": "text"
      },
      "source": [
        "## 1 dimensional matrix"
      ]
    },
    {
      "cell_type": "code",
      "metadata": {
        "id": "IUCUXiYeIwdp",
        "colab_type": "code",
        "colab": {
          "base_uri": "https://localhost:8080/",
          "height": 34
        },
        "outputId": "718b5635-800f-49b1-c667-efb9fac7d116"
      },
      "source": [
        "a = np.array([45, 58, 96], dtype=\"int16\")\n",
        "print(a)"
      ],
      "execution_count": 47,
      "outputs": [
        {
          "output_type": "stream",
          "text": [
            "[45 58 96]\n"
          ],
          "name": "stdout"
        }
      ]
    },
    {
      "cell_type": "markdown",
      "metadata": {
        "id": "UHeS2yu6Jh85",
        "colab_type": "text"
      },
      "source": [
        "## 2 dimensional matrix"
      ]
    },
    {
      "cell_type": "code",
      "metadata": {
        "id": "Bk60H1SkJPpI",
        "colab_type": "code",
        "colab": {
          "base_uri": "https://localhost:8080/",
          "height": 50
        },
        "outputId": "713fc70d-f2fd-46ac-85b3-9f2b4f6dd57d"
      },
      "source": [
        "b = np.array([[4, 5, 8], [2, 7, 6]])\n",
        "print(b)"
      ],
      "execution_count": 48,
      "outputs": [
        {
          "output_type": "stream",
          "text": [
            "[[4 5 8]\n",
            " [2 7 6]]\n"
          ],
          "name": "stdout"
        }
      ]
    },
    {
      "cell_type": "markdown",
      "metadata": {
        "id": "aHaojb07Jljw",
        "colab_type": "text"
      },
      "source": [
        "## 3 dimensional matrix"
      ]
    },
    {
      "cell_type": "code",
      "metadata": {
        "id": "-AXdfeetJnpI",
        "colab_type": "code",
        "colab": {
          "base_uri": "https://localhost:8080/",
          "height": 67
        },
        "outputId": "86b5711d-964a-4c36-eb4b-2ba4d523d0b4"
      },
      "source": [
        "c = np.array([[1.23, 2.23, 3.89], [9, 6, 9], [7, 2, 4]])\n",
        "print(c)"
      ],
      "execution_count": 49,
      "outputs": [
        {
          "output_type": "stream",
          "text": [
            "[[1.23 2.23 3.89]\n",
            " [9.   6.   9.  ]\n",
            " [7.   2.   4.  ]]\n"
          ],
          "name": "stdout"
        }
      ]
    },
    {
      "cell_type": "code",
      "metadata": {
        "id": "qCdShvWFJ51x",
        "colab_type": "code",
        "colab": {
          "base_uri": "https://localhost:8080/",
          "height": 34
        },
        "outputId": "36b631b1-3a56-48a7-e9ed-08734afa91c3"
      },
      "source": [
        "# Get dimension\n",
        "a.ndim"
      ],
      "execution_count": 50,
      "outputs": [
        {
          "output_type": "execute_result",
          "data": {
            "text/plain": [
              "1"
            ]
          },
          "metadata": {
            "tags": []
          },
          "execution_count": 50
        }
      ]
    },
    {
      "cell_type": "code",
      "metadata": {
        "id": "WEvsNBNeJ-Jh",
        "colab_type": "code",
        "colab": {
          "base_uri": "https://localhost:8080/",
          "height": 34
        },
        "outputId": "07094091-b307-4378-8442-f77fd287955c"
      },
      "source": [
        "# Get shape or n * n?\n",
        "b.shape"
      ],
      "execution_count": 51,
      "outputs": [
        {
          "output_type": "execute_result",
          "data": {
            "text/plain": [
              "(2, 3)"
            ]
          },
          "metadata": {
            "tags": []
          },
          "execution_count": 51
        }
      ]
    },
    {
      "cell_type": "code",
      "metadata": {
        "id": "t59HgBMDKHwZ",
        "colab_type": "code",
        "colab": {
          "base_uri": "https://localhost:8080/",
          "height": 50
        },
        "outputId": "801a097b-e1e5-4188-a693-ad2623ca4d80"
      },
      "source": [
        "# Get type\n",
        "print(a.dtype)\n",
        "print(c.dtype)"
      ],
      "execution_count": 52,
      "outputs": [
        {
          "output_type": "stream",
          "text": [
            "int16\n",
            "float64\n"
          ],
          "name": "stdout"
        }
      ]
    },
    {
      "cell_type": "code",
      "metadata": {
        "id": "QjzLarEcKzbb",
        "colab_type": "code",
        "colab": {
          "base_uri": "https://localhost:8080/",
          "height": 67
        },
        "outputId": "8a654d33-ae73-40c8-c142-775929fc3fbb"
      },
      "source": [
        "# Get bytes of memory it takes\n",
        "print(b.itemsize)\n",
        "print(a.itemsize)\n",
        "print(c.itemsize)\n",
        "# 2 bytes for int16\n",
        "# 4 bytes for int32\n",
        "# 8 bytes for int64\n",
        "# 8 bytes for float too"
      ],
      "execution_count": 56,
      "outputs": [
        {
          "output_type": "stream",
          "text": [
            "8\n",
            "2\n",
            "8\n"
          ],
          "name": "stdout"
        }
      ]
    },
    {
      "cell_type": "code",
      "metadata": {
        "id": "l3RTAgiPMBnb",
        "colab_type": "code",
        "colab": {
          "base_uri": "https://localhost:8080/",
          "height": 67
        },
        "outputId": "b1d0097f-e643-4dcf-d7be-c5e35de09479"
      },
      "source": [
        "# Get length of np array\n",
        "print(a.size)\n",
        "print(b.size)\n",
        "print(c.size)"
      ],
      "execution_count": 54,
      "outputs": [
        {
          "output_type": "stream",
          "text": [
            "3\n",
            "6\n",
            "9\n"
          ],
          "name": "stdout"
        }
      ]
    },
    {
      "cell_type": "code",
      "metadata": {
        "id": "LRI_bHmSMKpJ",
        "colab_type": "code",
        "colab": {
          "base_uri": "https://localhost:8080/",
          "height": 50
        },
        "outputId": "8c577500-c494-461d-f243-ad97ed70c4a8"
      },
      "source": [
        "# Get total size\n",
        "print(a.size * a.itemsize)\n",
        "# other way to do this\n",
        "print(a.nbytes)"
      ],
      "execution_count": 55,
      "outputs": [
        {
          "output_type": "stream",
          "text": [
            "6\n",
            "6\n"
          ],
          "name": "stdout"
        }
      ]
    },
    {
      "cell_type": "markdown",
      "metadata": {
        "id": "pKC4KP2tM0A8",
        "colab_type": "text"
      },
      "source": [
        "## Acccessing/Changing specific elements, rows, columns etc."
      ]
    },
    {
      "cell_type": "code",
      "metadata": {
        "id": "eZp1RGpdM7JR",
        "colab_type": "code",
        "colab": {
          "base_uri": "https://localhost:8080/",
          "height": 50
        },
        "outputId": "8c6691a7-f640-459a-dc79-79ce7a741fbc"
      },
      "source": [
        "d = np.array([[1, 2, 3, 4, 5, 6, 7], [8, 9, 10, 11, 12, 13, 14]])\n",
        "print(d)"
      ],
      "execution_count": 57,
      "outputs": [
        {
          "output_type": "stream",
          "text": [
            "[[ 1  2  3  4  5  6  7]\n",
            " [ 8  9 10 11 12 13 14]]\n"
          ],
          "name": "stdout"
        }
      ]
    },
    {
      "cell_type": "code",
      "metadata": {
        "id": "GiOXI1QvNUML",
        "colab_type": "code",
        "colab": {
          "base_uri": "https://localhost:8080/",
          "height": 34
        },
        "outputId": "fd59e865-8923-410e-aa34-89bf01f4fabd"
      },
      "source": [
        "# Get a specific element - [r, c]\n",
        "d[0, 3]"
      ],
      "execution_count": 59,
      "outputs": [
        {
          "output_type": "execute_result",
          "data": {
            "text/plain": [
              "4"
            ]
          },
          "metadata": {
            "tags": []
          },
          "execution_count": 59
        }
      ]
    },
    {
      "cell_type": "code",
      "metadata": {
        "id": "7NDSWxvWWT14",
        "colab_type": "code",
        "colab": {
          "base_uri": "https://localhost:8080/",
          "height": 50
        },
        "outputId": "d81d683f-2ac3-4258-84f9-f359acc552bc"
      },
      "source": [
        "# Get a specific row\n",
        "print(d[0, :]) # first row\n",
        "print(d[0, 1:6])"
      ],
      "execution_count": 64,
      "outputs": [
        {
          "output_type": "stream",
          "text": [
            "[1 2 3 4 5 6 7]\n",
            "[2 3 4 5 6]\n"
          ],
          "name": "stdout"
        }
      ]
    },
    {
      "cell_type": "code",
      "metadata": {
        "id": "NEUat4y6WzKE",
        "colab_type": "code",
        "colab": {
          "base_uri": "https://localhost:8080/",
          "height": 34
        },
        "outputId": "7cb214de-9b69-40e6-f529-449bbe915a96"
      },
      "source": [
        "# Get a specific column\n",
        "print(d[:, 2]) # third column"
      ],
      "execution_count": 65,
      "outputs": [
        {
          "output_type": "stream",
          "text": [
            "[ 3 10]\n"
          ],
          "name": "stdout"
        }
      ]
    }
  ]
}