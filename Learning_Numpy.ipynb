{
  "nbformat": 4,
  "nbformat_minor": 0,
  "metadata": {
    "colab": {
      "name": "Learning-Numpy.ipynb",
      "provenance": [],
      "include_colab_link": true
    },
    "kernelspec": {
      "name": "python3",
      "display_name": "Python 3"
    },
    "accelerator": "GPU"
  },
  "cells": [
    {
      "cell_type": "markdown",
      "metadata": {
        "id": "view-in-github",
        "colab_type": "text"
      },
      "source": [
        "<a href=\"https://colab.research.google.com/github/thecoducer/learning-data-science/blob/master/Learning_Numpy.ipynb\" target=\"_parent\"><img src=\"https://colab.research.google.com/assets/colab-badge.svg\" alt=\"Open In Colab\"/></a>"
      ]
    },
    {
      "cell_type": "markdown",
      "metadata": {
        "id": "HTh1V1CMFFt_",
        "colab_type": "text"
      },
      "source": [
        "## Numpy###"
      ]
    },
    {
      "cell_type": "markdown",
      "metadata": {
        "id": "Oe1X7_n9F5yA",
        "colab_type": "text"
      },
      "source": [
        "### Why Numpy is faster than lists?\n",
        "\n",
        "- Numpy is faster than lists since Numpy elements have fixed data type.\n",
        "- Numpy has contiguous memory\n",
        "- No type checking when reading objects\n",
        "- Read bytes of memory faster\n",
        "\n",
        "### Applications of Numpy:\n",
        "\n",
        "- Mathematics (MATLAB replacement)\n",
        "- Plotting (using matloptlib)\n",
        "- Backend (Pandas, Connect 4, Digital photography)\n",
        "- Machine learning (Numpy helps to give a foundation to tensors)"
      ]
    },
    {
      "cell_type": "markdown",
      "metadata": {
        "id": "sZ43n_QSIigg",
        "colab_type": "text"
      },
      "source": [
        "## Install numpy"
      ]
    },
    {
      "cell_type": "code",
      "metadata": {
        "id": "kAvqcBwkE43k",
        "colab_type": "code",
        "colab": {
          "base_uri": "https://localhost:8080/",
          "height": 34
        },
        "outputId": "e7c584c5-3265-4bc9-a663-b010d75992d2"
      },
      "source": [
        "pip install numpy"
      ],
      "execution_count": 1,
      "outputs": [
        {
          "output_type": "stream",
          "text": [
            "Requirement already satisfied: numpy in /usr/local/lib/python3.6/dist-packages (1.16.5)\n"
          ],
          "name": "stdout"
        }
      ]
    },
    {
      "cell_type": "code",
      "metadata": {
        "id": "LJTGJDFNJR1g",
        "colab_type": "code",
        "colab": {}
      },
      "source": [
        "import numpy as np"
      ],
      "execution_count": 0,
      "outputs": []
    },
    {
      "cell_type": "code",
      "metadata": {
        "id": "IUCUXiYeIwdp",
        "colab_type": "code",
        "colab": {
          "base_uri": "https://localhost:8080/",
          "height": 34
        },
        "outputId": "445b0168-2eb5-44c5-c1fb-9d5fea4b3ecf"
      },
      "source": [
        "a = np.array([45, 58, 96])\n",
        "print(a)"
      ],
      "execution_count": 8,
      "outputs": [
        {
          "output_type": "stream",
          "text": [
            "[45 58 96]\n"
          ],
          "name": "stdout"
        }
      ]
    },
    {
      "cell_type": "code",
      "metadata": {
        "id": "Bk60H1SkJPpI",
        "colab_type": "code",
        "colab": {
          "base_uri": "https://localhost:8080/",
          "height": 50
        },
        "outputId": "40d72b13-e39e-443b-8751-09f8dad2c7db"
      },
      "source": [
        "b = np.array([[4, 5, 8], [2, 7, 6]])\n",
        "print(b)"
      ],
      "execution_count": 9,
      "outputs": [
        {
          "output_type": "stream",
          "text": [
            "[[4 5 8]\n",
            " [2 7 6]]\n"
          ],
          "name": "stdout"
        }
      ]
    }
  ]
}